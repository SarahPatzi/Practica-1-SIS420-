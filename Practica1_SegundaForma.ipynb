{
  "nbformat": 4,
  "nbformat_minor": 0,
  "metadata": {
    "colab": {
      "provenance": []
    },
    "kernelspec": {
      "name": "python3",
      "display_name": "Python 3"
    },
    "language_info": {
      "name": "python"
    }
  },
  "cells": [
    {
      "cell_type": "markdown",
      "source": [
        "# **Segunda Forma: Regresión Polinómica**"
      ],
      "metadata": {
        "id": "URb8NkPwAkyb"
      }
    },
    {
      "cell_type": "markdown",
      "source": [
        "Importamos las librerias:"
      ],
      "metadata": {
        "id": "4uNItCV0BYXW"
      }
    },
    {
      "cell_type": "code",
      "source": [
        "import random #Genera numeros aleatorios\n",
        "import numpy as np #Nos ayuda a trabajar con numeros y hacer calculos\n",
        "import pandas as pd #Nos ayuda a trabajar con datos en forma de tablas\n",
        "import matplotlib.pyplot as plt #Grafica los datos\n",
        "from sklearn.linear_model import LinearRegression #Crea modelos de predicción (en este caso, una linea que se ajusta a los datos)\n",
        "from sklearn.preprocessing import PolynomialFeatures #Nos ayuda a transformar los datos\n",
        "from sklearn.metrics import mean_squared_error #Nos ayuda a evaluar el modelo"
      ],
      "metadata": {
        "id": "XJHBQR1mBXgI"
      },
      "execution_count": 115,
      "outputs": []
    },
    {
      "cell_type": "markdown",
      "source": [
        "Función para generar pesos en base a la altura: Si alguien es más bajo su peso será menor y si es más alto su peso será mayor"
      ],
      "metadata": {
        "id": "IauLEGM8Cm09"
      }
    },
    {
      "cell_type": "code",
      "source": [
        "def generar_peso(altura):\n",
        "    if altura < 1.4:\n",
        "        return random.randint(40, 60)\n",
        "    elif altura < 1.6:\n",
        "        return random.randint(50, 70)\n",
        "    elif altura < 1.8:\n",
        "        return random.randint(60, 85)\n",
        "    else:\n",
        "        return random.randint(70, 100)\n"
      ],
      "metadata": {
        "id": "W4laicfBDAhJ"
      },
      "execution_count": 116,
      "outputs": []
    },
    {
      "cell_type": "markdown",
      "source": [
        "Generando datos de estatura y peso:"
      ],
      "metadata": {
        "id": "0F-CwFWdDCZK"
      }
    },
    {
      "cell_type": "code",
      "source": [
        "#FORMA LARGA:\n",
        "alturas = []  # Creamos una lista vacía\n",
        "\n",
        "for _ in range(100): #el _ en el for es para evitar crear una variable que no usaremos, solo lo necesitamos como una variable de marcador de posición\n",
        "    altura = round(random.uniform(1.3, 2.0), 2)  # Generamos una altura aleatoria\n",
        "    alturas.append(altura)  # Añadimos la altura a la lista\n",
        "\n",
        "pesos = []  # Creamos una lista vacía para almacenar los pesos\n",
        "for a in alturas:\n",
        "    peso = generar_peso(a)  # Llamamos a la función para obtener el peso para la altura a\n",
        "    pesos.append(peso)  # Agregamos el peso a la lista de pesos\n",
        "\n",
        "#FORMA RESUMIDA:\n",
        "#alturas = [round(random.uniform(1.3, 2.0), 2) for _ in range(100)]  # Llena la lista alturas con 100 números aleatorios entre 1.3 y 2.0, redondeados a 2 decimales.\n",
        "#pesos = [generar_peso(a) for a in alturas]  # LLena la lista llamando a la función generar_peso una vez por cada elemento en la lista alturas\n"
      ],
      "metadata": {
        "id": "2BzlyUNwELIt"
      },
      "execution_count": 117,
      "outputs": []
    },
    {
      "cell_type": "markdown",
      "source": [
        "Para crear una tabla con los datos de altura y peso: Toma un diccionario como argumento, donde las claves se usan como nombres de las columnas y los valores se usan como datos de esas columnas"
      ],
      "metadata": {
        "id": "GWfagzHcEOsZ"
      }
    },
    {
      "cell_type": "code",
      "source": [
        "# 'nombre': datos(los anteriormente generados)\n",
        "tabla = pd.DataFrame({\n",
        "    'Altura (m)': alturas,\n",
        "    'Peso (kg)': pesos\n",
        "})\n"
      ],
      "metadata": {
        "id": "v0atinH2ESUX"
      },
      "execution_count": 118,
      "outputs": []
    },
    {
      "cell_type": "markdown",
      "source": [
        "Guardar, cargar y mostrar los datos:"
      ],
      "metadata": {
        "id": "nJgwkntdEVCh"
      }
    },
    {
      "cell_type": "code",
      "source": [
        "tabla.to_csv('TablaDeDatos.csv', index=False) #Guarda\n",
        "tabla = pd.read_csv('TablaDeDatos.csv') #Carga\n",
        "print(\"Datos cargados desde el archivo CSV:\")\n",
        "tabla.head(10) #Muestra"
      ],
      "metadata": {
        "colab": {
          "base_uri": "https://localhost:8080/",
          "height": 381
        },
        "id": "SpveML04EXDy",
        "outputId": "f02ac403-16f7-499c-f065-78c4675bb75d"
      },
      "execution_count": 119,
      "outputs": [
        {
          "output_type": "stream",
          "name": "stdout",
          "text": [
            "Datos cargados desde el archivo CSV:\n"
          ]
        },
        {
          "output_type": "execute_result",
          "data": {
            "text/plain": [
              "   Altura (m)  Peso (kg)\n",
              "0        1.68         66\n",
              "1        1.50         66\n",
              "2        1.75         76\n",
              "3        1.85         95\n",
              "4        1.84         86\n",
              "5        1.58         66\n",
              "6        1.72         79\n",
              "7        1.87         96\n",
              "8        1.78         79\n",
              "9        1.93         94"
            ],
            "text/html": [
              "\n",
              "  <div id=\"df-bc886ae8-9e37-4c8d-8030-4942d661b038\" class=\"colab-df-container\">\n",
              "    <div>\n",
              "<style scoped>\n",
              "    .dataframe tbody tr th:only-of-type {\n",
              "        vertical-align: middle;\n",
              "    }\n",
              "\n",
              "    .dataframe tbody tr th {\n",
              "        vertical-align: top;\n",
              "    }\n",
              "\n",
              "    .dataframe thead th {\n",
              "        text-align: right;\n",
              "    }\n",
              "</style>\n",
              "<table border=\"1\" class=\"dataframe\">\n",
              "  <thead>\n",
              "    <tr style=\"text-align: right;\">\n",
              "      <th></th>\n",
              "      <th>Altura (m)</th>\n",
              "      <th>Peso (kg)</th>\n",
              "    </tr>\n",
              "  </thead>\n",
              "  <tbody>\n",
              "    <tr>\n",
              "      <th>0</th>\n",
              "      <td>1.68</td>\n",
              "      <td>66</td>\n",
              "    </tr>\n",
              "    <tr>\n",
              "      <th>1</th>\n",
              "      <td>1.50</td>\n",
              "      <td>66</td>\n",
              "    </tr>\n",
              "    <tr>\n",
              "      <th>2</th>\n",
              "      <td>1.75</td>\n",
              "      <td>76</td>\n",
              "    </tr>\n",
              "    <tr>\n",
              "      <th>3</th>\n",
              "      <td>1.85</td>\n",
              "      <td>95</td>\n",
              "    </tr>\n",
              "    <tr>\n",
              "      <th>4</th>\n",
              "      <td>1.84</td>\n",
              "      <td>86</td>\n",
              "    </tr>\n",
              "    <tr>\n",
              "      <th>5</th>\n",
              "      <td>1.58</td>\n",
              "      <td>66</td>\n",
              "    </tr>\n",
              "    <tr>\n",
              "      <th>6</th>\n",
              "      <td>1.72</td>\n",
              "      <td>79</td>\n",
              "    </tr>\n",
              "    <tr>\n",
              "      <th>7</th>\n",
              "      <td>1.87</td>\n",
              "      <td>96</td>\n",
              "    </tr>\n",
              "    <tr>\n",
              "      <th>8</th>\n",
              "      <td>1.78</td>\n",
              "      <td>79</td>\n",
              "    </tr>\n",
              "    <tr>\n",
              "      <th>9</th>\n",
              "      <td>1.93</td>\n",
              "      <td>94</td>\n",
              "    </tr>\n",
              "  </tbody>\n",
              "</table>\n",
              "</div>\n",
              "    <div class=\"colab-df-buttons\">\n",
              "\n",
              "  <div class=\"colab-df-container\">\n",
              "    <button class=\"colab-df-convert\" onclick=\"convertToInteractive('df-bc886ae8-9e37-4c8d-8030-4942d661b038')\"\n",
              "            title=\"Convert this dataframe to an interactive table.\"\n",
              "            style=\"display:none;\">\n",
              "\n",
              "  <svg xmlns=\"http://www.w3.org/2000/svg\" height=\"24px\" viewBox=\"0 -960 960 960\">\n",
              "    <path d=\"M120-120v-720h720v720H120Zm60-500h600v-160H180v160Zm220 220h160v-160H400v160Zm0 220h160v-160H400v160ZM180-400h160v-160H180v160Zm440 0h160v-160H620v160ZM180-180h160v-160H180v160Zm440 0h160v-160H620v160Z\"/>\n",
              "  </svg>\n",
              "    </button>\n",
              "\n",
              "  <style>\n",
              "    .colab-df-container {\n",
              "      display:flex;\n",
              "      gap: 12px;\n",
              "    }\n",
              "\n",
              "    .colab-df-convert {\n",
              "      background-color: #E8F0FE;\n",
              "      border: none;\n",
              "      border-radius: 50%;\n",
              "      cursor: pointer;\n",
              "      display: none;\n",
              "      fill: #1967D2;\n",
              "      height: 32px;\n",
              "      padding: 0 0 0 0;\n",
              "      width: 32px;\n",
              "    }\n",
              "\n",
              "    .colab-df-convert:hover {\n",
              "      background-color: #E2EBFA;\n",
              "      box-shadow: 0px 1px 2px rgba(60, 64, 67, 0.3), 0px 1px 3px 1px rgba(60, 64, 67, 0.15);\n",
              "      fill: #174EA6;\n",
              "    }\n",
              "\n",
              "    .colab-df-buttons div {\n",
              "      margin-bottom: 4px;\n",
              "    }\n",
              "\n",
              "    [theme=dark] .colab-df-convert {\n",
              "      background-color: #3B4455;\n",
              "      fill: #D2E3FC;\n",
              "    }\n",
              "\n",
              "    [theme=dark] .colab-df-convert:hover {\n",
              "      background-color: #434B5C;\n",
              "      box-shadow: 0px 1px 3px 1px rgba(0, 0, 0, 0.15);\n",
              "      filter: drop-shadow(0px 1px 2px rgba(0, 0, 0, 0.3));\n",
              "      fill: #FFFFFF;\n",
              "    }\n",
              "  </style>\n",
              "\n",
              "    <script>\n",
              "      const buttonEl =\n",
              "        document.querySelector('#df-bc886ae8-9e37-4c8d-8030-4942d661b038 button.colab-df-convert');\n",
              "      buttonEl.style.display =\n",
              "        google.colab.kernel.accessAllowed ? 'block' : 'none';\n",
              "\n",
              "      async function convertToInteractive(key) {\n",
              "        const element = document.querySelector('#df-bc886ae8-9e37-4c8d-8030-4942d661b038');\n",
              "        const dataTable =\n",
              "          await google.colab.kernel.invokeFunction('convertToInteractive',\n",
              "                                                    [key], {});\n",
              "        if (!dataTable) return;\n",
              "\n",
              "        const docLinkHtml = 'Like what you see? Visit the ' +\n",
              "          '<a target=\"_blank\" href=https://colab.research.google.com/notebooks/data_table.ipynb>data table notebook</a>'\n",
              "          + ' to learn more about interactive tables.';\n",
              "        element.innerHTML = '';\n",
              "        dataTable['output_type'] = 'display_data';\n",
              "        await google.colab.output.renderOutput(dataTable, element);\n",
              "        const docLink = document.createElement('div');\n",
              "        docLink.innerHTML = docLinkHtml;\n",
              "        element.appendChild(docLink);\n",
              "      }\n",
              "    </script>\n",
              "  </div>\n",
              "\n",
              "\n",
              "<div id=\"df-07b8760f-bac9-4b53-9116-8b99273f0d83\">\n",
              "  <button class=\"colab-df-quickchart\" onclick=\"quickchart('df-07b8760f-bac9-4b53-9116-8b99273f0d83')\"\n",
              "            title=\"Suggest charts\"\n",
              "            style=\"display:none;\">\n",
              "\n",
              "<svg xmlns=\"http://www.w3.org/2000/svg\" height=\"24px\"viewBox=\"0 0 24 24\"\n",
              "     width=\"24px\">\n",
              "    <g>\n",
              "        <path d=\"M19 3H5c-1.1 0-2 .9-2 2v14c0 1.1.9 2 2 2h14c1.1 0 2-.9 2-2V5c0-1.1-.9-2-2-2zM9 17H7v-7h2v7zm4 0h-2V7h2v10zm4 0h-2v-4h2v4z\"/>\n",
              "    </g>\n",
              "</svg>\n",
              "  </button>\n",
              "\n",
              "<style>\n",
              "  .colab-df-quickchart {\n",
              "      --bg-color: #E8F0FE;\n",
              "      --fill-color: #1967D2;\n",
              "      --hover-bg-color: #E2EBFA;\n",
              "      --hover-fill-color: #174EA6;\n",
              "      --disabled-fill-color: #AAA;\n",
              "      --disabled-bg-color: #DDD;\n",
              "  }\n",
              "\n",
              "  [theme=dark] .colab-df-quickchart {\n",
              "      --bg-color: #3B4455;\n",
              "      --fill-color: #D2E3FC;\n",
              "      --hover-bg-color: #434B5C;\n",
              "      --hover-fill-color: #FFFFFF;\n",
              "      --disabled-bg-color: #3B4455;\n",
              "      --disabled-fill-color: #666;\n",
              "  }\n",
              "\n",
              "  .colab-df-quickchart {\n",
              "    background-color: var(--bg-color);\n",
              "    border: none;\n",
              "    border-radius: 50%;\n",
              "    cursor: pointer;\n",
              "    display: none;\n",
              "    fill: var(--fill-color);\n",
              "    height: 32px;\n",
              "    padding: 0;\n",
              "    width: 32px;\n",
              "  }\n",
              "\n",
              "  .colab-df-quickchart:hover {\n",
              "    background-color: var(--hover-bg-color);\n",
              "    box-shadow: 0 1px 2px rgba(60, 64, 67, 0.3), 0 1px 3px 1px rgba(60, 64, 67, 0.15);\n",
              "    fill: var(--button-hover-fill-color);\n",
              "  }\n",
              "\n",
              "  .colab-df-quickchart-complete:disabled,\n",
              "  .colab-df-quickchart-complete:disabled:hover {\n",
              "    background-color: var(--disabled-bg-color);\n",
              "    fill: var(--disabled-fill-color);\n",
              "    box-shadow: none;\n",
              "  }\n",
              "\n",
              "  .colab-df-spinner {\n",
              "    border: 2px solid var(--fill-color);\n",
              "    border-color: transparent;\n",
              "    border-bottom-color: var(--fill-color);\n",
              "    animation:\n",
              "      spin 1s steps(1) infinite;\n",
              "  }\n",
              "\n",
              "  @keyframes spin {\n",
              "    0% {\n",
              "      border-color: transparent;\n",
              "      border-bottom-color: var(--fill-color);\n",
              "      border-left-color: var(--fill-color);\n",
              "    }\n",
              "    20% {\n",
              "      border-color: transparent;\n",
              "      border-left-color: var(--fill-color);\n",
              "      border-top-color: var(--fill-color);\n",
              "    }\n",
              "    30% {\n",
              "      border-color: transparent;\n",
              "      border-left-color: var(--fill-color);\n",
              "      border-top-color: var(--fill-color);\n",
              "      border-right-color: var(--fill-color);\n",
              "    }\n",
              "    40% {\n",
              "      border-color: transparent;\n",
              "      border-right-color: var(--fill-color);\n",
              "      border-top-color: var(--fill-color);\n",
              "    }\n",
              "    60% {\n",
              "      border-color: transparent;\n",
              "      border-right-color: var(--fill-color);\n",
              "    }\n",
              "    80% {\n",
              "      border-color: transparent;\n",
              "      border-right-color: var(--fill-color);\n",
              "      border-bottom-color: var(--fill-color);\n",
              "    }\n",
              "    90% {\n",
              "      border-color: transparent;\n",
              "      border-bottom-color: var(--fill-color);\n",
              "    }\n",
              "  }\n",
              "</style>\n",
              "\n",
              "  <script>\n",
              "    async function quickchart(key) {\n",
              "      const quickchartButtonEl =\n",
              "        document.querySelector('#' + key + ' button');\n",
              "      quickchartButtonEl.disabled = true;  // To prevent multiple clicks.\n",
              "      quickchartButtonEl.classList.add('colab-df-spinner');\n",
              "      try {\n",
              "        const charts = await google.colab.kernel.invokeFunction(\n",
              "            'suggestCharts', [key], {});\n",
              "      } catch (error) {\n",
              "        console.error('Error during call to suggestCharts:', error);\n",
              "      }\n",
              "      quickchartButtonEl.classList.remove('colab-df-spinner');\n",
              "      quickchartButtonEl.classList.add('colab-df-quickchart-complete');\n",
              "    }\n",
              "    (() => {\n",
              "      let quickchartButtonEl =\n",
              "        document.querySelector('#df-07b8760f-bac9-4b53-9116-8b99273f0d83 button');\n",
              "      quickchartButtonEl.style.display =\n",
              "        google.colab.kernel.accessAllowed ? 'block' : 'none';\n",
              "    })();\n",
              "  </script>\n",
              "</div>\n",
              "\n",
              "    </div>\n",
              "  </div>\n"
            ],
            "application/vnd.google.colaboratory.intrinsic+json": {
              "type": "dataframe",
              "variable_name": "tabla",
              "summary": "{\n  \"name\": \"tabla\",\n  \"rows\": 100,\n  \"fields\": [\n    {\n      \"column\": \"Altura (m)\",\n      \"properties\": {\n        \"dtype\": \"number\",\n        \"std\": 0.2059585865991981,\n        \"min\": 1.3,\n        \"max\": 2.0,\n        \"num_unique_values\": 52,\n        \"samples\": [\n          1.4,\n          1.95,\n          1.47\n        ],\n        \"semantic_type\": \"\",\n        \"description\": \"\"\n      }\n    },\n    {\n      \"column\": \"Peso (kg)\",\n      \"properties\": {\n        \"dtype\": \"number\",\n        \"std\": 14,\n        \"min\": 40,\n        \"max\": 99,\n        \"num_unique_values\": 42,\n        \"samples\": [\n          89,\n          65,\n          88\n        ],\n        \"semantic_type\": \"\",\n        \"description\": \"\"\n      }\n    }\n  ]\n}"
            }
          },
          "metadata": {},
          "execution_count": 119
        }
      ]
    },
    {
      "cell_type": "markdown",
      "source": [
        "Grafica de los datos sin el ajuste de curva:"
      ],
      "metadata": {
        "id": "LvXn6aQtEkou"
      }
    },
    {
      "cell_type": "code",
      "source": [
        "plt.scatter(tabla['Altura (m)'], tabla['Peso (kg)'], color='#9f33ff') #(X,Y,Color)\n",
        "plt.title('Altura vs Peso') #titulo\n",
        "plt.xlabel('Altura (m)') #eje x nombre\n",
        "plt.ylabel('Peso (kg)') #eje y nombre\n",
        "plt.show()  # Muestra la gráfica"
      ],
      "metadata": {
        "colab": {
          "base_uri": "https://localhost:8080/",
          "height": 472
        },
        "id": "OSGjR_1UEoA8",
        "outputId": "44200d60-71bd-44a6-e142-bcf45a2915d1"
      },
      "execution_count": 120,
      "outputs": [
        {
          "output_type": "display_data",
          "data": {
            "text/plain": [
              "<Figure size 640x480 with 1 Axes>"
            ],
            "image/png": "[encoded data removed]"
          },
          "metadata": {}
        }
      ]
    },
    {
      "cell_type": "markdown",
      "source": [
        "Preparando los datos para la curva polinómica:"
      ],
      "metadata": {
        "id": "39ev9UknFT-4"
      }
    },
    {
      "cell_type": "code",
      "source": [
        "X = tabla['Altura (m)'].values.reshape(-1, 1) #lista de alturas que convertimos en un array de numpy con una sola columna\n",
        "y = tabla['Peso (kg)'].values #lista de pesos\n",
        "poly = PolynomialFeatures(degree=2) #grado del polinomio, ajustar una curva a los datos en lugar de solo una línea recta.\n",
        "X_poly = poly.fit_transform(X) #le damos al modelo para que pueda ajustar una curva a los datos\n"
      ],
      "metadata": {
        "id": "Qb98iWtoFZae"
      },
      "execution_count": 121,
      "outputs": []
    },
    {
      "cell_type": "markdown",
      "source": [
        "Crear, entrenar y hacer predicciones:"
      ],
      "metadata": {
        "id": "16osCoY5FdLU"
      }
    },
    {
      "cell_type": "code",
      "source": [
        "model = LinearRegression() #crear un modelo de regresión lineal\n",
        "model.fit(X_poly, y)  #entrenar el modelo con los datos transformados\n",
        "y_pred = model.predict(X_poly)  #hacer predicciones con los datos transformados\n"
      ],
      "metadata": {
        "id": "6lcqXwQ9FoSf"
      },
      "execution_count": 122,
      "outputs": []
    },
    {
      "cell_type": "markdown",
      "source": [
        "Evaluación del modelo calculando el error cuadratico medio:"
      ],
      "metadata": {
        "id": "kk7ksHC4Frdh"
      }
    },
    {
      "cell_type": "code",
      "source": [
        "mse = mean_squared_error(y, y_pred) #calcula el error cuadratico medio\n",
        "print(f\"Error cuadratico medio: {mse:.2f}\")  #imprime el error cuadratico medio con dos decimales\n"
      ],
      "metadata": {
        "colab": {
          "base_uri": "https://localhost:8080/"
        },
        "id": "qhn-i-97FxLu",
        "outputId": "17798c07-1ae5-4613-8b61-eda7bf0bb5e9"
      },
      "execution_count": 123,
      "outputs": [
        {
          "output_type": "stream",
          "name": "stdout",
          "text": [
            "Error cuadratico medio: 53.43\n"
          ]
        }
      ]
    },
    {
      "cell_type": "markdown",
      "source": [
        "Graficar con el ajuste:"
      ],
      "metadata": {
        "id": "FDmoQP-KF06i"
      }
    },
    {
      "cell_type": "code",
      "source": [
        "plt.scatter(tabla['Altura (m)'], tabla['Peso (kg)'], color='#9f33ff', label='Datos')\n",
        "plt.plot(tabla['Altura (m)'], y_pred, color='#ff338d', label='Curva ajustada')\n",
        "plt.title('Curva ajustada Altura vs Peso')\n",
        "plt.xlabel('Altura')\n",
        "plt.ylabel('Peso')\n",
        "plt.legend()\n",
        "plt.show()\n"
      ],
      "metadata": {
        "colab": {
          "base_uri": "https://localhost:8080/",
          "height": 472
        },
        "id": "gs7ytmwcF27M",
        "outputId": "d37cb9ff-4fe6-40e7-c875-1ee4831b9bbd"
      },
      "execution_count": 124,
      "outputs": [
        {
          "output_type": "display_data",
          "data": {
            "text/plain": [
              "<Figure size 640x480 with 1 Axes>"
            ],
            "image/png": "[encoded data removed]"
          },
          "metadata": {}
        }
      ]
    },
    {
      "cell_type": "markdown",
      "source": [],
      "metadata": {
        "id": "-v1HdzPGEY5V"
      }
    }
  ]
}